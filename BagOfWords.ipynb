{
  "nbformat": 4,
  "nbformat_minor": 0,
  "metadata": {
    "colab": {
      "provenance": [],
      "authorship_tag": "ABX9TyPA3R5Ub0NOZTbXcXRqhyJD",
      "include_colab_link": true
    },
    "kernelspec": {
      "name": "python3",
      "display_name": "Python 3"
    },
    "language_info": {
      "name": "python"
    }
  },
  "cells": [
    {
      "cell_type": "markdown",
      "metadata": {
        "id": "view-in-github",
        "colab_type": "text"
      },
      "source": [
        "<a href=\"https://colab.research.google.com/github/Nargis45/Natural_language_processing/blob/main/BagOfWords.ipynb\" target=\"_parent\"><img src=\"https://colab.research.google.com/assets/colab-badge.svg\" alt=\"Open In Colab\"/></a>"
      ]
    },
    {
      "cell_type": "code",
      "execution_count": 15,
      "metadata": {
        "colab": {
          "base_uri": "https://localhost:8080/"
        },
        "id": "bIZwRynTerVY",
        "outputId": "004ab1ce-96fa-4360-9061-779f6bf06e9d"
      },
      "outputs": [
        {
          "output_type": "stream",
          "name": "stderr",
          "text": [
            "[nltk_data] Downloading package punkt to /root/nltk_data...\n",
            "[nltk_data]   Package punkt is already up-to-date!\n",
            "[nltk_data] Downloading package stopwords to /root/nltk_data...\n",
            "[nltk_data]   Package stopwords is already up-to-date!\n",
            "[nltk_data] Downloading package wordnet to /root/nltk_data...\n",
            "[nltk_data]   Package wordnet is already up-to-date!\n",
            "[nltk_data] Downloading package omw-1.4 to /root/nltk_data...\n"
          ]
        },
        {
          "output_type": "execute_result",
          "data": {
            "text/plain": [
              "True"
            ]
          },
          "metadata": {},
          "execution_count": 15
        }
      ],
      "source": [
        "import nltk\n",
        "nltk.download('punkt')\n",
        "nltk.download('stopwords')\n",
        "nltk.download('wordnet')\n",
        "nltk.download('omw-1.4')"
      ]
    },
    {
      "cell_type": "code",
      "source": [
        "paragraph='''First of all, Life refers to an aspect of existence. \n",
        "            This aspect processes acts, evaluates, and evolves through growth. Life is what distinguishes humans from inorganic matter. \n",
        "            Some individuals certainly enjoy free will in Life. Others like slaves and prisoners don’t have that privilege. \n",
        "            However, Life isn’t just about living independently in society. It is certainly much more than that. Hence, quality of Life carries huge importance. \n",
        "            Above all, the ultimate purpose should be to live a meaningful life. A meaningful life is one which allows us to connect with our deeper self.\n",
        "            One important aspect of Life is that it keeps going forward. This means nothing is permanent. Hence, there should be a reason to stay in dejection. A happy occasion will come to pass, just like a sad one. Above all, one must be optimistic no matter how bad things get. \n",
        "            This is because nothing will stay forever. Every situation, occasion, and event shall pass. This is certainly a beauty of Life.\n",
        "            Many people become very sad because of failures. However, these people certainly fail to see the bright side. The bright side is that there is a reason for every failure. \n",
        "            Therefore, every failure teaches us a valuable lesson. This means every failure builds experience. This experience is what improves the skills and efficiency of humans.\n",
        "            Probably a huge number of individuals complain that Life is a pain. Many people believe that the word pain is a synonym for Life. \n",
        "            However, it is pain that makes us stronger. Pain is certainly an excellent way of increasing mental resilience. Above all, pain enriches the mind.\n",
        "            The uncertainty of death is what makes life so precious. No one knows the hour of one’s death. \n",
        "            This probably is the most important reason to live life to the fullest. Staying in depression or being a workaholic is an utter wastage of Life. \n",
        "            One must certainly enjoy the beautiful blessings of Life before death overtakes.'''"
      ],
      "metadata": {
        "id": "fb22pTM4exwA"
      },
      "execution_count": 16,
      "outputs": []
    },
    {
      "cell_type": "code",
      "source": [
        "#cleaning the text\n",
        "import re #for regular expression\n",
        "from nltk.corpus import stopwords\n",
        "from nltk.stem.porter import PorterStemmer\n",
        "from nltk.stem import WordNetLemmatizer\n",
        "\n",
        "ps=PorterStemmer()\n",
        "wordnet=WordNetLemmatizer()\n",
        "sentences=nltk.sent_tokenize(paragraph)\n",
        "\n",
        "corpus=[]\n",
        "for i in range(len(sentences)):\n",
        "  review=re.sub('[^a-zA-z]', ' ', sentences[i])\n",
        "  review=review.lower()\n",
        "  review=review.split()\n",
        "  review=[wordnet.lemmatize(word) for word in review if not word in set(stopwords.words('english'))]\n",
        "  review=' '.join(review)\n",
        "  corpus.append(review)"
      ],
      "metadata": {
        "id": "TY0xJo9mfqgd"
      },
      "execution_count": 17,
      "outputs": []
    },
    {
      "cell_type": "code",
      "source": [
        "#crreating bag of words model\n",
        "from sklearn.feature_extraction.text import CountVectorizer\n",
        "cv=CountVectorizer(max_features=1500)\n",
        "x=cv.fit_transform(corpus).toarray()"
      ],
      "metadata": {
        "id": "z9Vzl2rah7yI"
      },
      "execution_count": 19,
      "outputs": []
    },
    {
      "cell_type": "code",
      "source": [
        "review"
      ],
      "metadata": {
        "colab": {
          "base_uri": "https://localhost:8080/",
          "height": 36
        },
        "id": "V1WwcI4RlqKO",
        "outputId": "d38a189f-579d-48f7-e34d-45ae409caaef"
      },
      "execution_count": 25,
      "outputs": [
        {
          "output_type": "execute_result",
          "data": {
            "text/plain": [
              "'one must certainly enjoy beautiful blessing life death overtakes'"
            ],
            "application/vnd.google.colaboratory.intrinsic+json": {
              "type": "string"
            }
          },
          "metadata": {},
          "execution_count": 25
        }
      ]
    },
    {
      "cell_type": "code",
      "source": [
        "corpus"
      ],
      "metadata": {
        "colab": {
          "base_uri": "https://localhost:8080/"
        },
        "id": "JPqWlcgRlT_t",
        "outputId": "b8aa65a5-b1a4-4fb6-9f16-a7a75d5e5746"
      },
      "execution_count": 23,
      "outputs": [
        {
          "output_type": "execute_result",
          "data": {
            "text/plain": [
              "['first life refers aspect existence',\n",
              " 'aspect process act evaluates evolves growth',\n",
              " 'life distinguishes human inorganic matter',\n",
              " 'individual certainly enjoy free life',\n",
              " 'others like slave prisoner privilege',\n",
              " 'however life living independently society',\n",
              " 'certainly much',\n",
              " 'hence quality life carry huge importance',\n",
              " 'ultimate purpose live meaningful life',\n",
              " 'meaningful life one allows u connect deeper self',\n",
              " 'one important aspect life keep going forward',\n",
              " 'mean nothing permanent',\n",
              " 'hence reason stay dejection',\n",
              " 'happy occasion come pas like sad one',\n",
              " 'one must optimistic matter bad thing get',\n",
              " 'nothing stay forever',\n",
              " 'every situation occasion event shall pas',\n",
              " 'certainly beauty life',\n",
              " 'many people become sad failure',\n",
              " 'however people certainly fail see bright side',\n",
              " 'bright side reason every failure',\n",
              " 'therefore every failure teach u valuable lesson',\n",
              " 'mean every failure build experience',\n",
              " 'experience improves skill efficiency human',\n",
              " 'probably huge number individual complain life pain',\n",
              " 'many people believe word pain synonym life',\n",
              " 'however pain make u stronger',\n",
              " 'pain certainly excellent way increasing mental resilience',\n",
              " 'pain enriches mind',\n",
              " 'uncertainty death make life precious',\n",
              " 'one know hour one death',\n",
              " 'probably important reason live life fullest',\n",
              " 'staying depression workaholic utter wastage life',\n",
              " 'one must certainly enjoy beautiful blessing life death overtakes']"
            ]
          },
          "metadata": {},
          "execution_count": 23
        }
      ]
    },
    {
      "cell_type": "code",
      "source": [
        "x"
      ],
      "metadata": {
        "colab": {
          "base_uri": "https://localhost:8080/"
        },
        "id": "eOXu34wHkfz1",
        "outputId": "bb568ae0-bb4d-400c-e3b8-9823bae968ca"
      },
      "execution_count": 24,
      "outputs": [
        {
          "output_type": "execute_result",
          "data": {
            "text/plain": [
              "array([[0, 0, 1, ..., 0, 0, 0],\n",
              "       [1, 0, 1, ..., 0, 0, 0],\n",
              "       [0, 0, 0, ..., 0, 0, 0],\n",
              "       ...,\n",
              "       [0, 0, 0, ..., 0, 0, 0],\n",
              "       [0, 0, 0, ..., 0, 0, 1],\n",
              "       [0, 0, 0, ..., 0, 0, 0]])"
            ]
          },
          "metadata": {},
          "execution_count": 24
        }
      ]
    },
    {
      "cell_type": "code",
      "source": [],
      "metadata": {
        "id": "rT03FxUpk_on"
      },
      "execution_count": null,
      "outputs": []
    }
  ]
}