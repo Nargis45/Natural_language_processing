{
  "nbformat": 4,
  "nbformat_minor": 0,
  "metadata": {
    "colab": {
      "provenance": [],
      "authorship_tag": "ABX9TyPSRkjNFUITCX/J+Ls0BvbZ",
      "include_colab_link": true
    },
    "kernelspec": {
      "name": "python3",
      "display_name": "Python 3"
    },
    "language_info": {
      "name": "python"
    }
  },
  "cells": [
    {
      "cell_type": "markdown",
      "metadata": {
        "id": "view-in-github",
        "colab_type": "text"
      },
      "source": [
        "<a href=\"https://colab.research.google.com/github/Nargis45/Natural_language_processing/blob/main/Word2Vec.ipynb\" target=\"_parent\"><img src=\"https://colab.research.google.com/assets/colab-badge.svg\" alt=\"Open In Colab\"/></a>"
      ]
    },
    {
      "cell_type": "code",
      "source": [
        "!pip install gensim"
      ],
      "metadata": {
        "colab": {
          "base_uri": "https://localhost:8080/"
        },
        "id": "1z_GtY2j6jQQ",
        "outputId": "b5ef6977-7a45-4ce5-baa7-207bf8c1ae5e"
      },
      "execution_count": 6,
      "outputs": [
        {
          "output_type": "stream",
          "name": "stdout",
          "text": [
            "Looking in indexes: https://pypi.org/simple, https://us-python.pkg.dev/colab-wheels/public/simple/\n",
            "Requirement already satisfied: gensim in /usr/local/lib/python3.7/dist-packages (3.6.0)\n",
            "Requirement already satisfied: smart-open>=1.2.1 in /usr/local/lib/python3.7/dist-packages (from gensim) (5.2.1)\n",
            "Requirement already satisfied: numpy>=1.11.3 in /usr/local/lib/python3.7/dist-packages (from gensim) (1.21.6)\n",
            "Requirement already satisfied: scipy>=0.18.1 in /usr/local/lib/python3.7/dist-packages (from gensim) (1.7.3)\n",
            "Requirement already satisfied: six>=1.5.0 in /usr/local/lib/python3.7/dist-packages (from gensim) (1.15.0)\n"
          ]
        }
      ]
    },
    {
      "cell_type": "code",
      "execution_count": 17,
      "metadata": {
        "colab": {
          "base_uri": "https://localhost:8080/"
        },
        "id": "6Ji8nM8J51kQ",
        "outputId": "47e5227d-7ace-4a0e-dc66-5bea2a872d23"
      },
      "outputs": [
        {
          "output_type": "stream",
          "name": "stderr",
          "text": [
            "[nltk_data] Downloading package punkt to /root/nltk_data...\n",
            "[nltk_data]   Package punkt is already up-to-date!\n",
            "[nltk_data] Downloading package stopwords to /root/nltk_data...\n",
            "[nltk_data]   Package stopwords is already up-to-date!\n",
            "[nltk_data] Downloading package wordnet to /root/nltk_data...\n",
            "[nltk_data]   Package wordnet is already up-to-date!\n",
            "[nltk_data] Downloading package omw-1.4 to /root/nltk_data...\n",
            "[nltk_data]   Package omw-1.4 is already up-to-date!\n"
          ]
        }
      ],
      "source": [
        "import nltk\n",
        "nltk.download('punkt')\n",
        "nltk.download('stopwords')\n",
        "nltk.download('wordnet')\n",
        "nltk.download('omw-1.4')\n",
        "from gensim.models import Word2Vec\n"
      ]
    },
    {
      "cell_type": "code",
      "source": [
        "paragraph='''First of all, Life refers to an aspect of existence. \n",
        "            This aspect processes acts, evaluates, and evolves through growth. Life is what distinguishes humans from inorganic matter. \n",
        "            Some individuals certainly enjoy free will in Life. Others like slaves and prisoners don’t have that privilege. \n",
        "            However, Life isn’t just about living independently in society. It is certainly much more than that. Hence, quality of Life carries huge importance. \n",
        "            Above all, the ultimate purpose should be to live a meaningful life. A meaningful life is one which allows us to connect with our deeper self.\n",
        "            One important aspect of Life is that it keeps going forward. This means nothing is permanent. Hence, there should be a reason to stay in dejection. A happy occasion will come to pass, just like a sad one. Above all, one must be optimistic no matter how bad things get. \n",
        "            This is because nothing will stay forever. Every situation, occasion, and event shall pass. This is certainly a beauty of Life.\n",
        "            Many people become very sad because of failures. However, these people certainly fail to see the bright side. The bright side is that there is a reason for every failure. \n",
        "            Therefore, every failure teaches us a valuable lesson. This means every failure builds experience. This experience is what improves the skills and efficiency of humans.\n",
        "            Probably a huge number of individuals complain that Life is a pain. Many people believe that the word pain is a synonym for Life. \n",
        "            However, it is pain that makes us stronger. Pain is certainly an excellent way of increasing mental resilience. Above all, pain enriches the mind.\n",
        "            The uncertainty of death is what makes life so precious. No one knows the hour of one’s death. \n",
        "            This probably is the most important reason to live life to the fullest. Staying in depression or being a workaholic is an utter wastage of Life. \n",
        "            One must certainly enjoy the beautiful blessings of Life before death overtakes.'''"
      ],
      "metadata": {
        "id": "M4GqDACf6JZn"
      },
      "execution_count": 18,
      "outputs": []
    },
    {
      "cell_type": "code",
      "source": [
        "paragraph"
      ],
      "metadata": {
        "colab": {
          "base_uri": "https://localhost:8080/",
          "height": 123
        },
        "id": "ghBKyp-G-iXD",
        "outputId": "fd3ae694-8875-43b2-8f7f-f3f008f366ae"
      },
      "execution_count": 32,
      "outputs": [
        {
          "output_type": "execute_result",
          "data": {
            "text/plain": [
              "'First of all, Life refers to an aspect of existence. \\n            This aspect processes acts, evaluates, and evolves through growth. Life is what distinguishes humans from inorganic matter. \\n            Some individuals certainly enjoy free will in Life. Others like slaves and prisoners don’t have that privilege. \\n            However, Life isn’t just about living independently in society. It is certainly much more than that. Hence, quality of Life carries huge importance. \\n            Above all, the ultimate purpose should be to live a meaningful life. A meaningful life is one which allows us to connect with our deeper self.\\n            One important aspect of Life is that it keeps going forward. This means nothing is permanent. Hence, there should be a reason to stay in dejection. A happy occasion will come to pass, just like a sad one. Above all, one must be optimistic no matter how bad things get. \\n            This is because nothing will stay forever. Every situation, occasion, and event shall pass. This is certainly a beauty of Life.\\n            Many people become very sad because of failures. However, these people certainly fail to see the bright side. The bright side is that there is a reason for every failure. \\n            Therefore, every failure teaches us a valuable lesson. This means every failure builds experience. This experience is what improves the skills and efficiency of humans.\\n            Probably a huge number of individuals complain that Life is a pain. Many people believe that the word pain is a synonym for Life. \\n            However, it is pain that makes us stronger. Pain is certainly an excellent way of increasing mental resilience. Above all, pain enriches the mind.\\n            The uncertainty of death is what makes life so precious. No one knows the hour of one’s death. \\n            This probably is the most important reason to live life to the fullest. Staying in depression or being a workaholic is an utter wastage of Life. \\n            One must certainly enjoy the beautiful blessings of Life before death overtakes.'"
            ],
            "application/vnd.google.colaboratory.intrinsic+json": {
              "type": "string"
            }
          },
          "metadata": {},
          "execution_count": 32
        }
      ]
    },
    {
      "cell_type": "code",
      "source": [
        "import re #for regular expression\n",
        "from nltk.corpus import stopwords"
      ],
      "metadata": {
        "id": "oWWlUVCQ7v78"
      },
      "execution_count": 19,
      "outputs": []
    },
    {
      "cell_type": "code",
      "source": [
        "#preprocessing the data\n",
        "text = re.sub(r'\\[[0-9]*\\]',' ',paragraph)\n",
        "text = re.sub(r'\\s+',' ',text)\n",
        "text = text.lower()\n",
        "text = re.sub(r'\\d',' ',text)\n",
        "text = re.sub(r'\\s+',' ',text)"
      ],
      "metadata": {
        "id": "Whbsli8c7D5Y"
      },
      "execution_count": 20,
      "outputs": []
    },
    {
      "cell_type": "code",
      "source": [
        "text"
      ],
      "metadata": {
        "colab": {
          "base_uri": "https://localhost:8080/",
          "height": 123
        },
        "id": "ypOy1xt9-bvV",
        "outputId": "2da66ed0-805b-4d6b-fb8c-6fafc8bf97a5"
      },
      "execution_count": 30,
      "outputs": [
        {
          "output_type": "execute_result",
          "data": {
            "text/plain": [
              "'first of all, life refers to an aspect of existence. this aspect processes acts, evaluates, and evolves through growth. life is what distinguishes humans from inorganic matter. some individuals certainly enjoy free will in life. others like slaves and prisoners don’t have that privilege. however, life isn’t just about living independently in society. it is certainly much more than that. hence, quality of life carries huge importance. above all, the ultimate purpose should be to live a meaningful life. a meaningful life is one which allows us to connect with our deeper self. one important aspect of life is that it keeps going forward. this means nothing is permanent. hence, there should be a reason to stay in dejection. a happy occasion will come to pass, just like a sad one. above all, one must be optimistic no matter how bad things get. this is because nothing will stay forever. every situation, occasion, and event shall pass. this is certainly a beauty of life. many people become very sad because of failures. however, these people certainly fail to see the bright side. the bright side is that there is a reason for every failure. therefore, every failure teaches us a valuable lesson. this means every failure builds experience. this experience is what improves the skills and efficiency of humans. probably a huge number of individuals complain that life is a pain. many people believe that the word pain is a synonym for life. however, it is pain that makes us stronger. pain is certainly an excellent way of increasing mental resilience. above all, pain enriches the mind. the uncertainty of death is what makes life so precious. no one knows the hour of one’s death. this probably is the most important reason to live life to the fullest. staying in depression or being a workaholic is an utter wastage of life. one must certainly enjoy the beautiful blessings of life before death overtakes.'"
            ],
            "application/vnd.google.colaboratory.intrinsic+json": {
              "type": "string"
            }
          },
          "metadata": {},
          "execution_count": 30
        }
      ]
    },
    {
      "cell_type": "code",
      "source": [
        "# Preparing the dataset\n",
        "sentences = nltk.sent_tokenize(text)\n",
        "\n",
        "sentences = [nltk.word_tokenize(sentence) for sentence in sentences]\n",
        "\n",
        "for i in range(len(sentences)):\n",
        "    sentences[i] = [word for word in sentences[i] if word not in stopwords.words('english')]"
      ],
      "metadata": {
        "id": "V0Q6jr_p6KIF"
      },
      "execution_count": 21,
      "outputs": []
    },
    {
      "cell_type": "code",
      "source": [
        "sentences"
      ],
      "metadata": {
        "colab": {
          "base_uri": "https://localhost:8080/"
        },
        "id": "27gr4t1U-d81",
        "outputId": "be73287c-4fce-427e-c550-1613e4ab6871"
      },
      "execution_count": 31,
      "outputs": [
        {
          "output_type": "execute_result",
          "data": {
            "text/plain": [
              "[['first', ',', 'life', 'refers', 'aspect', 'existence', '.'],\n",
              " ['aspect',\n",
              "  'processes',\n",
              "  'acts',\n",
              "  ',',\n",
              "  'evaluates',\n",
              "  ',',\n",
              "  'evolves',\n",
              "  'growth',\n",
              "  '.'],\n",
              " ['life', 'distinguishes', 'humans', 'inorganic', 'matter', '.'],\n",
              " ['individuals', 'certainly', 'enjoy', 'free', 'life', '.'],\n",
              " ['others', 'like', 'slaves', 'prisoners', '’', 'privilege', '.'],\n",
              " ['however', ',', 'life', '’', 'living', 'independently', 'society', '.'],\n",
              " ['certainly', 'much', '.'],\n",
              " ['hence', ',', 'quality', 'life', 'carries', 'huge', 'importance', '.'],\n",
              " [',', 'ultimate', 'purpose', 'live', 'meaningful', 'life', '.'],\n",
              " ['meaningful',\n",
              "  'life',\n",
              "  'one',\n",
              "  'allows',\n",
              "  'us',\n",
              "  'connect',\n",
              "  'deeper',\n",
              "  'self',\n",
              "  '.'],\n",
              " ['one', 'important', 'aspect', 'life', 'keeps', 'going', 'forward', '.'],\n",
              " ['means', 'nothing', 'permanent', '.'],\n",
              " ['hence', ',', 'reason', 'stay', 'dejection', '.'],\n",
              " ['happy', 'occasion', 'come', 'pass', ',', 'like', 'sad', 'one', '.'],\n",
              " [',', 'one', 'must', 'optimistic', 'matter', 'bad', 'things', 'get', '.'],\n",
              " ['nothing', 'stay', 'forever', '.'],\n",
              " ['every', 'situation', ',', 'occasion', ',', 'event', 'shall', 'pass', '.'],\n",
              " ['certainly', 'beauty', 'life', '.'],\n",
              " ['many', 'people', 'become', 'sad', 'failures', '.'],\n",
              " ['however', ',', 'people', 'certainly', 'fail', 'see', 'bright', 'side', '.'],\n",
              " ['bright', 'side', 'reason', 'every', 'failure', '.'],\n",
              " ['therefore',\n",
              "  ',',\n",
              "  'every',\n",
              "  'failure',\n",
              "  'teaches',\n",
              "  'us',\n",
              "  'valuable',\n",
              "  'lesson',\n",
              "  '.'],\n",
              " ['means', 'every', 'failure', 'builds', 'experience', '.'],\n",
              " ['experience', 'improves', 'skills', 'efficiency', 'humans', '.'],\n",
              " ['probably',\n",
              "  'huge',\n",
              "  'number',\n",
              "  'individuals',\n",
              "  'complain',\n",
              "  'life',\n",
              "  'pain',\n",
              "  '.'],\n",
              " ['many', 'people', 'believe', 'word', 'pain', 'synonym', 'life', '.'],\n",
              " ['however', ',', 'pain', 'makes', 'us', 'stronger', '.'],\n",
              " ['pain',\n",
              "  'certainly',\n",
              "  'excellent',\n",
              "  'way',\n",
              "  'increasing',\n",
              "  'mental',\n",
              "  'resilience',\n",
              "  '.'],\n",
              " [',', 'pain', 'enriches', 'mind', '.'],\n",
              " ['uncertainty', 'death', 'makes', 'life', 'precious', '.'],\n",
              " ['one', 'knows', 'hour', 'one', '’', 'death', '.'],\n",
              " ['probably', 'important', 'reason', 'live', 'life', 'fullest', '.'],\n",
              " ['staying', 'depression', 'workaholic', 'utter', 'wastage', 'life', '.'],\n",
              " ['one',\n",
              "  'must',\n",
              "  'certainly',\n",
              "  'enjoy',\n",
              "  'beautiful',\n",
              "  'blessings',\n",
              "  'life',\n",
              "  'death',\n",
              "  'overtakes',\n",
              "  '.']]"
            ]
          },
          "metadata": {},
          "execution_count": 31
        }
      ]
    },
    {
      "cell_type": "code",
      "source": [
        "# Training the Word2Vec model\n",
        "model = Word2Vec(sentences, min_count=1)# minimum count of each word should be 1 otherwise remove it\n",
        "\n",
        "\n",
        "words = model.wv.vocab\n",
        "\n",
        "# Finding Word Vectors\n",
        "vector = model.wv['death']\n",
        "\n"
      ],
      "metadata": {
        "colab": {
          "base_uri": "https://localhost:8080/"
        },
        "id": "E_P_FAm-6V4F",
        "outputId": "53da93eb-8ca0-4f5e-971c-a96fc6ecb07b"
      },
      "execution_count": 24,
      "outputs": [
        {
          "output_type": "stream",
          "name": "stderr",
          "text": [
            "WARNING:gensim.models.base_any2vec:under 10 jobs per worker: consider setting a smaller `batch_words' for smoother alpha decay\n"
          ]
        }
      ]
    },
    {
      "cell_type": "code",
      "source": [
        "vector"
      ],
      "metadata": {
        "colab": {
          "base_uri": "https://localhost:8080/"
        },
        "id": "cXGXfKQ4-X_N",
        "outputId": "dcb00915-b777-4915-d8e4-8935d48313f0"
      },
      "execution_count": 29,
      "outputs": [
        {
          "output_type": "execute_result",
          "data": {
            "text/plain": [
              "array([-4.1408818e-03, -3.3260300e-04, -2.0383543e-03, -2.7212217e-03,\n",
              "       -3.7096157e-03,  2.7199259e-03,  1.7091238e-03,  6.3713180e-04,\n",
              "        1.1978716e-03, -3.1919519e-03, -4.1240351e-03,  3.2187321e-03,\n",
              "       -6.4881303e-04, -1.2965049e-03, -3.3180654e-04,  4.8458148e-03,\n",
              "        2.7130391e-03, -1.5058075e-03, -4.1526882e-03, -4.6333356e-04,\n",
              "        5.2211946e-04, -3.6994666e-03, -2.6522218e-03, -6.8814540e-04,\n",
              "       -4.2246291e-03, -1.6487259e-03,  4.6620886e-03, -1.9890736e-03,\n",
              "        3.1394870e-03, -3.7120091e-04,  1.7261842e-03,  2.0153571e-03,\n",
              "       -8.5359847e-04, -3.5969834e-03,  1.3059843e-03, -2.2424175e-03,\n",
              "       -1.5734574e-06,  3.1205867e-03,  3.5363985e-03, -3.6210900e-03,\n",
              "        1.2059122e-03,  4.6460037e-03, -8.6761196e-04,  2.6756302e-03,\n",
              "       -2.2884510e-03,  3.8243756e-03,  2.3890396e-03,  4.9397922e-03,\n",
              "        2.8403995e-03, -1.9384676e-03,  4.7691003e-03, -1.7141722e-03,\n",
              "       -4.3725027e-03,  1.1473104e-03, -3.0610992e-03, -2.5365115e-04,\n",
              "        4.3893070e-03, -3.6973541e-03,  3.4823848e-03, -2.6840367e-03,\n",
              "        3.1828526e-03, -4.0881415e-03,  4.7138683e-03,  6.9884519e-04,\n",
              "       -1.6631904e-03, -2.3810228e-03,  1.9321921e-03, -4.5919488e-03,\n",
              "       -1.0467363e-03,  5.7151652e-04,  2.7498871e-03, -1.0953601e-03,\n",
              "        2.3171445e-03, -2.0679152e-03, -2.4621584e-03, -3.6148145e-03,\n",
              "        1.7842980e-03, -1.1565298e-03, -3.7150655e-03, -9.7485859e-04,\n",
              "       -3.3601262e-03,  1.2364540e-03, -3.8320504e-03, -4.1963020e-03,\n",
              "        1.3314433e-03, -4.8429482e-03,  2.9036342e-03, -3.8636972e-03,\n",
              "        4.8074732e-03, -2.4681517e-03, -2.2815047e-03, -2.4562820e-03,\n",
              "       -3.0983356e-03, -1.6166281e-03,  1.2993787e-03,  1.3546529e-03,\n",
              "        3.6961746e-03,  3.1277130e-03, -4.9911258e-03,  6.3789607e-04],\n",
              "      dtype=float32)"
            ]
          },
          "metadata": {},
          "execution_count": 29
        }
      ]
    },
    {
      "cell_type": "code",
      "source": [
        "# Most similar words\n",
        "similar = model.wv.most_similar('death')"
      ],
      "metadata": {
        "id": "ML9n98cE74hz"
      },
      "execution_count": 25,
      "outputs": []
    },
    {
      "cell_type": "code",
      "source": [
        "similar"
      ],
      "metadata": {
        "colab": {
          "base_uri": "https://localhost:8080/"
        },
        "id": "sC5WhjPx98j2",
        "outputId": "74d6d0c5-733c-4493-ac28-b3e31a3934df"
      },
      "execution_count": 26,
      "outputs": [
        {
          "output_type": "execute_result",
          "data": {
            "text/plain": [
              "[('quality', 0.2939036786556244),\n",
              " ('life', 0.24217909574508667),\n",
              " ('slaves', 0.19964951276779175),\n",
              " (',', 0.17627844214439392),\n",
              " ('failures', 0.17224037647247314),\n",
              " ('many', 0.15094035863876343),\n",
              " ('valuable', 0.14327725768089294),\n",
              " ('one', 0.14168386161327362),\n",
              " ('aspect', 0.1358788013458252),\n",
              " ('however', 0.13314606249332428)]"
            ]
          },
          "metadata": {},
          "execution_count": 26
        }
      ]
    },
    {
      "cell_type": "code",
      "source": [
        "# Most similar words\n",
        "similar = model.wv.most_similar('pain')"
      ],
      "metadata": {
        "id": "uqTRVxro99uJ"
      },
      "execution_count": 27,
      "outputs": []
    },
    {
      "cell_type": "code",
      "source": [
        "similar"
      ],
      "metadata": {
        "colab": {
          "base_uri": "https://localhost:8080/"
        },
        "id": "hPtOOukQ-Cer",
        "outputId": "b8fc6eb3-5ba3-42d6-8d51-22ea6298514f"
      },
      "execution_count": 28,
      "outputs": [
        {
          "output_type": "execute_result",
          "data": {
            "text/plain": [
              "[('reason', 0.19256368279457092),\n",
              " ('side', 0.17329220473766327),\n",
              " ('situation', 0.17151835560798645),\n",
              " ('failure', 0.16338194906711578),\n",
              " ('deeper', 0.1616407185792923),\n",
              " ('connect', 0.15555143356323242),\n",
              " ('experience', 0.14236751198768616),\n",
              " ('skills', 0.14102865755558014),\n",
              " ('sad', 0.13249939680099487),\n",
              " ('matter', 0.12304030358791351)]"
            ]
          },
          "metadata": {},
          "execution_count": 28
        }
      ]
    },
    {
      "cell_type": "code",
      "source": [],
      "metadata": {
        "id": "4OKX5nMu-EcQ"
      },
      "execution_count": null,
      "outputs": []
    }
  ]
}