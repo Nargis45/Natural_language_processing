{
  "nbformat": 4,
  "nbformat_minor": 0,
  "metadata": {
    "colab": {
      "provenance": [],
      "collapsed_sections": [],
      "authorship_tag": "ABX9TyOhDwFjs9eTXF96vh0M9CnI",
      "include_colab_link": true
    },
    "kernelspec": {
      "name": "python3",
      "display_name": "Python 3"
    },
    "language_info": {
      "name": "python"
    }
  },
  "cells": [
    {
      "cell_type": "markdown",
      "metadata": {
        "id": "view-in-github",
        "colab_type": "text"
      },
      "source": [
        "<a href=\"https://colab.research.google.com/github/Nargis45/Natural_language_processing/blob/main/Tokenization.ipynb\" target=\"_parent\"><img src=\"https://colab.research.google.com/assets/colab-badge.svg\" alt=\"Open In Colab\"/></a>"
      ]
    },
    {
      "cell_type": "code",
      "execution_count": null,
      "metadata": {
        "id": "KNK3FkICtNIa"
      },
      "outputs": [],
      "source": [
        "# importing nltk library and download the packages used for converting paragraphs to sentences and words.\n",
        "import nltk\n",
        "nltk.download('punkt')"
      ]
    },
    {
      "cell_type": "code",
      "source": [
        "#a long paragraph is stored inside paragraph variable.\n",
        "paragraph=\"Try not to become a man of success, but rather try to become a man of value. This is one of the famous inspirational quotes of the great and successful American scientist Albert Einstein. I think that you all would have heard of this great physicist and his discoveries in the field of science. His discovery of the theory of relativity has been a significant contribution to physics. He was not good in all subjects but was greatly interested in mathematics and physics. He was called a child genius because he was capable of solving hard problems of mathematics at a very small age. He had poor performance in subjects other than mathematics and physics; therefore he was disliked by his schools.He had a different perspective towards nature and its phenomenon. His mind was full of curiosity and thus he was always interested in doing and knowing about new things. He had a child-like curiosity even after he grew older and this was the greatest reason behind the discoveries of his scientific theories.\""
      ],
      "metadata": {
        "id": "bjV2oE5Ftgoj"
      },
      "execution_count": 5,
      "outputs": []
    },
    {
      "cell_type": "code",
      "source": [
        "#using sent_tokenize to convert paragraph into sentences and storing all sentences in 'sentence'.\n",
        "sentences=nltk.sent_tokenize(paragraph)"
      ],
      "metadata": {
        "id": "3XnBwj8Hu1dk"
      },
      "execution_count": 6,
      "outputs": []
    },
    {
      "cell_type": "code",
      "source": [
        "#printing all the generated sentences.\n",
        "print(sentences)"
      ],
      "metadata": {
        "id": "qON4IVVWu98L"
      },
      "execution_count": null,
      "outputs": []
    },
    {
      "cell_type": "code",
      "source": [
        "#finding total number of sentences generated\n",
        "len(sentences)"
      ],
      "metadata": {
        "id": "T7YUHaVdwf-o"
      },
      "execution_count": null,
      "outputs": []
    },
    {
      "cell_type": "code",
      "source": [
        "#using word_tokenize to convert paragraph into words and storing all words in 'words'.\n",
        "words=nltk.word_tokenize(paragraph)"
      ],
      "metadata": {
        "id": "BDyXS2QWu__A"
      },
      "execution_count": null,
      "outputs": []
    },
    {
      "cell_type": "code",
      "source": [
        "#printing all the generated words.\n",
        "print(words)"
      ],
      "metadata": {
        "id": "bL3hGTeQvGp7"
      },
      "execution_count": null,
      "outputs": []
    },
    {
      "cell_type": "code",
      "source": [
        "#finding total number of words generated\n",
        "len(words)"
      ],
      "metadata": {
        "id": "cEJN5zZ6vH0C"
      },
      "execution_count": null,
      "outputs": []
    }
  ]
}