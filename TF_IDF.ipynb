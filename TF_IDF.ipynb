{
  "nbformat": 4,
  "nbformat_minor": 0,
  "metadata": {
    "colab": {
      "provenance": [],
      "authorship_tag": "ABX9TyMAR86W9G3Dz6hI+B+9ug5J",
      "include_colab_link": true
    },
    "kernelspec": {
      "name": "python3",
      "display_name": "Python 3"
    },
    "language_info": {
      "name": "python"
    }
  },
  "cells": [
    {
      "cell_type": "markdown",
      "metadata": {
        "id": "view-in-github",
        "colab_type": "text"
      },
      "source": [
        "<a href=\"https://colab.research.google.com/github/Nargis45/Natural_language_processing/blob/main/TF_IDF.ipynb\" target=\"_parent\"><img src=\"https://colab.research.google.com/assets/colab-badge.svg\" alt=\"Open In Colab\"/></a>"
      ]
    },
    {
      "cell_type": "code",
      "execution_count": 5,
      "metadata": {
        "colab": {
          "base_uri": "https://localhost:8080/"
        },
        "id": "wyqSWPiP0HAv",
        "outputId": "2d8c4f51-0ebd-4b03-db41-67afc69e41a7"
      },
      "outputs": [
        {
          "output_type": "stream",
          "name": "stderr",
          "text": [
            "[nltk_data] Downloading package punkt to /root/nltk_data...\n",
            "[nltk_data]   Package punkt is already up-to-date!\n",
            "[nltk_data] Downloading package stopwords to /root/nltk_data...\n",
            "[nltk_data]   Package stopwords is already up-to-date!\n",
            "[nltk_data] Downloading package wordnet to /root/nltk_data...\n",
            "[nltk_data]   Package wordnet is already up-to-date!\n",
            "[nltk_data] Downloading package omw-1.4 to /root/nltk_data...\n",
            "[nltk_data]   Package omw-1.4 is already up-to-date!\n"
          ]
        },
        {
          "output_type": "execute_result",
          "data": {
            "text/plain": [
              "True"
            ]
          },
          "metadata": {},
          "execution_count": 5
        }
      ],
      "source": [
        "import nltk\n",
        "nltk.download('punkt')\n",
        "nltk.download('stopwords')\n",
        "nltk.download('wordnet')\n",
        "nltk.download('omw-1.4')"
      ]
    },
    {
      "cell_type": "code",
      "source": [
        "paragraph='''First of all, Life refers to an aspect of existence. \n",
        "            This aspect processes acts, evaluates, and evolves through growth. Life is what distinguishes humans from inorganic matter. \n",
        "            Some individuals certainly enjoy free will in Life. Others like slaves and prisoners don’t have that privilege. \n",
        "            However, Life isn’t just about living independently in society. It is certainly much more than that. Hence, quality of Life carries huge importance. \n",
        "            Above all, the ultimate purpose should be to live a meaningful life. A meaningful life is one which allows us to connect with our deeper self.\n",
        "            One important aspect of Life is that it keeps going forward. This means nothing is permanent. Hence, there should be a reason to stay in dejection. A happy occasion will come to pass, just like a sad one. Above all, one must be optimistic no matter how bad things get. \n",
        "            This is because nothing will stay forever. Every situation, occasion, and event shall pass. This is certainly a beauty of Life.\n",
        "            Many people become very sad because of failures. However, these people certainly fail to see the bright side. The bright side is that there is a reason for every failure. \n",
        "            Therefore, every failure teaches us a valuable lesson. This means every failure builds experience. This experience is what improves the skills and efficiency of humans.\n",
        "            Probably a huge number of individuals complain that Life is a pain. Many people believe that the word pain is a synonym for Life. \n",
        "            However, it is pain that makes us stronger. Pain is certainly an excellent way of increasing mental resilience. Above all, pain enriches the mind.\n",
        "            The uncertainty of death is what makes life so precious. No one knows the hour of one’s death. \n",
        "            This probably is the most important reason to live life to the fullest. Staying in depression or being a workaholic is an utter wastage of Life. \n",
        "            One must certainly enjoy the beautiful blessings of Life before death overtakes.'''"
      ],
      "metadata": {
        "id": "pxdVdu280xDT"
      },
      "execution_count": 2,
      "outputs": []
    },
    {
      "cell_type": "code",
      "source": [
        "#cleaning the text\n",
        "import re #for regular expression\n",
        "from nltk.corpus import stopwords\n",
        "from nltk.stem.porter import PorterStemmer\n",
        "from nltk.stem import WordNetLemmatizer\n",
        "\n",
        "ps=PorterStemmer()\n",
        "wordnet=WordNetLemmatizer()\n",
        "sentences=nltk.sent_tokenize(paragraph)\n",
        "\n",
        "corpus=[]\n",
        "for i in range(len(sentences)):\n",
        "  review=re.sub('[^a-zA-z]', ' ', sentences[i])\n",
        "  review=review.lower()\n",
        "  review=review.split()\n",
        "  review=[wordnet.lemmatize(word) for word in review if not word in set(stopwords.words('english'))]\n",
        "  review=' '.join(review)\n",
        "  corpus.append(review)"
      ],
      "metadata": {
        "id": "z5tWqWmE0zmJ"
      },
      "execution_count": 8,
      "outputs": []
    },
    {
      "cell_type": "code",
      "source": [
        "#crreating TF-IDF model\n",
        "from sklearn.feature_extraction.text import TfidfVectorizer\n",
        "cv=TfidfVectorizer()\n",
        "x=cv.fit_transform(corpus).toarray()"
      ],
      "metadata": {
        "id": "ayUi8P3i1Qp6"
      },
      "execution_count": 9,
      "outputs": []
    },
    {
      "cell_type": "code",
      "source": [
        "x"
      ],
      "metadata": {
        "colab": {
          "base_uri": "https://localhost:8080/"
        },
        "id": "tFsmqNdI2bKQ",
        "outputId": "84d782ee-bce6-4507-b551-1d5adc6a767c"
      },
      "execution_count": 10,
      "outputs": [
        {
          "output_type": "execute_result",
          "data": {
            "text/plain": [
              "array([[0.        , 0.        , 0.4162215 , ..., 0.        , 0.        ,\n",
              "        0.        ],\n",
              "       [0.41983947, 0.        , 0.3444911 , ..., 0.        , 0.        ,\n",
              "        0.        ],\n",
              "       [0.        , 0.        , 0.        , ..., 0.        , 0.        ,\n",
              "        0.        ],\n",
              "       ...,\n",
              "       [0.        , 0.        , 0.        , ..., 0.        , 0.        ,\n",
              "        0.        ],\n",
              "       [0.        , 0.        , 0.        , ..., 0.        , 0.        ,\n",
              "        0.43797907],\n",
              "       [0.        , 0.        , 0.        , ..., 0.        , 0.        ,\n",
              "        0.        ]])"
            ]
          },
          "metadata": {},
          "execution_count": 10
        }
      ]
    },
    {
      "cell_type": "code",
      "source": [],
      "metadata": {
        "id": "fo_DMjRo2rQW"
      },
      "execution_count": null,
      "outputs": []
    }
  ]
}